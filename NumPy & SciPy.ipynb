{
 "cells": [
  {
   "cell_type": "markdown",
   "metadata": {},
   "source": [
    "## NumPy and SciPy\n",
    "NumPy  and  SciPy  are  open-source  add-on  modules  to  Python  that  provide  common \n",
    "mathematical and numerical routines  in  pre-compiled, fast functions.\n",
    "\n",
    "### NumPy \n",
    "The  NumPy  (Numeric  Python) \n",
    "package  provides  basic  routines  for  manipulating  large  arrays  and  matrices  of  numeric  data.\n",
    "### SciPy\n",
    "The  SciPy  (Scientific  Python)  package  extends  the  functionality  of  NumPy  with  a  substantial \n",
    "collection of useful algorithms, like minimization, Fourier transformation, regression, and other \n",
    "applied mathematical techniques. \n"
   ]
  },
  {
   "cell_type": "code",
   "execution_count": 1,
   "metadata": {},
   "outputs": [],
   "source": [
    "# Importting the numpy module\n",
    "import numpy as np"
   ]
  },
  {
   "cell_type": "markdown",
   "metadata": {},
   "source": [
    "## Arrays\n",
    "The  central  feature  of  NumPy  is  the  array  object  class.   Arrays  are  similar  to  lists  in  Python, \n",
    "except that every element of an array must be of the same type, typically a numeric type like \n",
    "float  or int. Arrays make operations with large amounts of numeric data very fast and are \n",
    "generally much more efficient than lists."
   ]
  },
  {
   "cell_type": "code",
   "execution_count": 2,
   "metadata": {},
   "outputs": [
    {
     "data": {
      "text/plain": [
       "array([11.,  3.,  8.,  6.])"
      ]
     },
     "execution_count": 2,
     "metadata": {},
     "output_type": "execute_result"
    }
   ],
   "source": [
    "# Initializing numpy array\n",
    "arr = np.array([11, 3, 8, 6], float)\n",
    "\n",
    "arr"
   ]
  },
  {
   "cell_type": "code",
   "execution_count": null,
   "metadata": {},
   "outputs": [],
   "source": []
  }
 ],
 "metadata": {
  "kernelspec": {
   "display_name": "Python 3",
   "language": "python",
   "name": "python3"
  },
  "language_info": {
   "codemirror_mode": {
    "name": "ipython",
    "version": 3
   },
   "file_extension": ".py",
   "mimetype": "text/x-python",
   "name": "python",
   "nbconvert_exporter": "python",
   "pygments_lexer": "ipython3",
   "version": "3.7.0"
  }
 },
 "nbformat": 4,
 "nbformat_minor": 2
}
